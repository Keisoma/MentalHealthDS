{
 "cells": [
  {
   "cell_type": "markdown",
   "id": "bbe63428",
   "metadata": {},
   "source": [
    "# La santé mentale et le travail\n",
    "\n",
    "## Problématique :\n",
    "\n",
    "- - Comment la situation de travail influence-t-elle la santé mentale des gens et leur aptitude à se confier sur leur état ?\n",
    "\n"
   ]
  },
  {
   "cell_type": "markdown",
   "id": "4dfbe48f",
   "metadata": {},
   "source": [
    "### Le télétravail et dispositifs entreprises\n",
    "Dans un premier temps, analysons les personnes selon leur part de télétravail (plus ou moins de 50%), ainsi que les cas où si les personnes savent ou non si leurs employeurs accordent des bénéfices en faveur de la santé mentale. Voyons si selon ces critères, les personnes ont oui ou non suivi un traitement contre un trouble mental."
   ]
  },
  {
   "cell_type": "code",
   "execution_count": 64,
   "id": "af2911fa",
   "metadata": {
    "hide_input": false
   },
   "outputs": [
    {
     "data": {
      "image/png": "[encoded data removed]",
      "text/plain": [
       "<Figure size 366.125x288 with 1 Axes>"
      ]
     },
     "metadata": {
      "needs_background": "light"
     },
     "output_type": "display_data"
    }
   ],
   "source": [
    "import numpy as np\n",
    "import pandas as pd\n",
    "import seaborn as sns\n",
    "import matplotlib.pyplot as plt\n",
    "\n",
    "#Première lecture du document\n",
    "df = pd.read_csv('C:/Users/kris.amiot/Desktop/M1 Hitema/H3-Python/MentalHealthDS/survey.csv')\n",
    "df['traitement'] = df['treatment'].replace({'Yes': 1, 'No': 0})\n",
    "g = sns.catplot(\n",
    "    data=df, kind=\"bar\",\n",
    "    x=\"remote_work\", y=\"traitement\", hue=\"care_options\",\n",
    "    ci=\"sd\", palette=\"dark\", alpha=.6, height=4\n",
    "\n",
    ")"
   ]
  },
  {
   "cell_type": "markdown",
   "id": "96ed2088",
   "metadata": {},
   "source": [
    "Ce graphique représente le taux de personnes ayant suivi un traitement contre un trouble mental, en fonction de leur méthode de travail dominante (télétravail ou non), tout en se posant la question de si leur employeur accordent des bénéfices concernant la santé mentale.\n",
    "\n",
    "Nous pouvons voir que la différence est assez minime en ce qui concerne la méthode de travail, mais on peut tout de même voir qu'en général les personnes ont plus tendance à avoir suivi un traitement lorsqu'ils travaillent à distance plus de 50% du temps.\n",
    "Le facteur le plus déterminant est le facteur bénéfice accordé par l'entreprise (oui/non/ne sait pas). On voit que lorsque l'entreprise accorde des bénéfices, les gens ont beaucoup plus tendance à suivre un traitement que lorsqu'elle n'en accorde pas. Les personnes ne sachant pas, elles , suivent encore moins un traitement que celles pour lesquelles l'entreprise n'accorde pas de bénéfice, et on pourrait en conjecturer que celà vient d'un manque d'envie ou même d'intérêt."
   ]
  },
  {
   "cell_type": "markdown",
   "id": "49b9f956",
   "metadata": {},
   "source": [
    "### Les entreprises\n",
    "Nous allons à présent nous intéresser aux entreprises, leur nombre d'employés, ainsi que le taux de traitement en fonction des mesures qu'elles prennent ou non pour leurs employés\n",
    "\n"
   ]
  },
  {
   "cell_type": "code",
   "execution_count": 83,
   "id": "f614ccb1",
   "metadata": {},
   "outputs": [
    {
     "data": {
      "image/png": "[encoded data removed]",
      "text/plain": [
       "<Figure size 432x288 with 1 Axes>"
      ]
     },
     "metadata": {
      "needs_background": "light"
     },
     "output_type": "display_data"
    }
   ],
   "source": [
    "df['benefitsbin'] = df['benefits'].replace({'Yes': 1, 'No': 0, \"Don't know\": 0.5})\n",
    "df[\"Timestamp\"] = pd.to_datetime(df[\"Timestamp\"])\n",
    "g = sns.histplot(df,\n",
    "    x=\"no_emplo\", y=\"no_employees\"\n",
    ")"
   ]
  },
  {
   "cell_type": "code",
   "execution_count": null,
   "id": "ad401566",
   "metadata": {},
   "outputs": [],
   "source": []
  }
 ],
 "metadata": {
  "kernelspec": {
   "display_name": "Python 3 (ipykernel)",
   "language": "python",
   "name": "python3"
  },
  "language_info": {
   "codemirror_mode": {
    "name": "ipython",
    "version": 3
   },
   "file_extension": ".py",
   "mimetype": "text/x-python",
   "name": "python",
   "nbconvert_exporter": "python",
   "pygments_lexer": "ipython3",
   "version": "3.9.0"
  },
  "varInspector": {
   "cols": {
    "lenName": 16,
    "lenType": 16,
    "lenVar": 40
   },
   "kernels_config": {
    "python": {
     "delete_cmd_postfix": "",
     "delete_cmd_prefix": "del ",
     "library": "var_list.py",
     "varRefreshCmd": "print(var_dic_list())"
    },
    "r": {
     "delete_cmd_postfix": ") ",
     "delete_cmd_prefix": "rm(",
     "library": "var_list.r",
     "varRefreshCmd": "cat(var_dic_list()) "
    }
   },
   "types_to_exclude": [
    "module",
    "function",
    "builtin_function_or_method",
    "instance",
    "_Feature"
   ],
   "window_display": false
  }
 },
 "nbformat": 4,
 "nbformat_minor": 5
}
