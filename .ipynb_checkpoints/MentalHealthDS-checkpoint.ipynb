{
 "cells": [
  {
   "cell_type": "markdown",
   "id": "d2d4d076",
   "metadata": {},
   "source": [
    "## Potentielles problématiques :\n",
    "\n",
    "- Quels sont les événements ou comportements qui seraient les plus susceptibles de mener à des troubles mentaux liés au travail ?\n",
    "- Comment le taux de troubles mentaux varient selon la zone géographique ?\n",
    "- Comment la situation de travail influence-t-elle la santé mentale des gens et leur abilité à se confier à ce propos ?\n"
   ]
  },
  {
   "cell_type": "code",
   "execution_count": 2,
   "id": "6eff6d1d",
   "metadata": {},
   "outputs": [
    {
     "ename": "SyntaxError",
     "evalue": "(unicode error) 'unicodeescape' codec can't decode bytes in position 2-3: truncated \\UXXXXXXXX escape (Temp/ipykernel_6900/2681280742.py, line 5)",
     "output_type": "error",
     "traceback": [
      "\u001b[1;36m  File \u001b[1;32m\"C:\\Users\\KRIS~1.AMI\\AppData\\Local\\Temp/ipykernel_6900/2681280742.py\"\u001b[1;36m, line \u001b[1;32m5\u001b[0m\n\u001b[1;33m    df = pd.read_csv('C:\\Users\\kris.amiot\\Desktop\\M1 Hitema\\H3-Python\\MentalHealthDS\\survey.csv')\u001b[0m\n\u001b[1;37m                                                                                                ^\u001b[0m\n\u001b[1;31mSyntaxError\u001b[0m\u001b[1;31m:\u001b[0m (unicode error) 'unicodeescape' codec can't decode bytes in position 2-3: truncated \\UXXXXXXXX escape\n"
     ]
    }
   ],
   "source": [
    "import numpy as np\n",
    "import pandas as pd\n",
    "import seaborn as sns\n",
    "import matplotlib.pyplot as plt\n",
    "df = pd.read_csv('C:/Users/kris.amiot/Desktop/M1 Hitema/H3-Python/MentalHealthDS/survey')\n"
   ]
  },
  {
   "cell_type": "code",
   "execution_count": null,
   "id": "af88637d",
   "metadata": {},
   "outputs": [],
   "source": []
  }
 ],
 "metadata": {
  "kernelspec": {
   "display_name": "Python 3 (ipykernel)",
   "language": "python",
   "name": "python3"
  },
  "language_info": {
   "codemirror_mode": {
    "name": "ipython",
    "version": 3
   },
   "file_extension": ".py",
   "mimetype": "text/x-python",
   "name": "python",
   "nbconvert_exporter": "python",
   "pygments_lexer": "ipython3",
   "version": "3.9.0"
  },
  "varInspector": {
   "cols": {
    "lenName": 16,
    "lenType": 16,
    "lenVar": 40
   },
   "kernels_config": {
    "python": {
     "delete_cmd_postfix": "",
     "delete_cmd_prefix": "del ",
     "library": "var_list.py",
     "varRefreshCmd": "print(var_dic_list())"
    },
    "r": {
     "delete_cmd_postfix": ") ",
     "delete_cmd_prefix": "rm(",
     "library": "var_list.r",
     "varRefreshCmd": "cat(var_dic_list()) "
    }
   },
   "types_to_exclude": [
    "module",
    "function",
    "builtin_function_or_method",
    "instance",
    "_Feature"
   ],
   "window_display": false
  }
 },
 "nbformat": 4,
 "nbformat_minor": 5
}
